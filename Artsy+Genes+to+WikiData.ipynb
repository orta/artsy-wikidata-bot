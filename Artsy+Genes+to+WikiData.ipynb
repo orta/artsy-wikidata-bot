{
 "cells": [
  {
   "cell_type": "code",
   "execution_count": 23,
   "metadata": {
    "collapsed": true
   },
   "outputs": [],
   "source": [
    "import pywikibot"
   ]
  },
  {
   "cell_type": "code",
   "execution_count": 24,
   "metadata": {
    "collapsed": true
   },
   "outputs": [],
   "source": [
    "site = pywikibot.Site(\"wikidata\", \"wikidata\")\n",
    "repo = site.data_repository()"
   ]
  },
  {
   "cell_type": "code",
   "execution_count": 25,
   "metadata": {
    "collapsed": false
   },
   "outputs": [
    {
     "name": "stdout",
     "output_type": "stream",
     "text": [
      "[[wikidata:Q42]]\n"
     ]
    }
   ],
   "source": [
    "print(item)"
   ]
  },
  {
   "cell_type": "code",
   "execution_count": 26,
   "metadata": {
    "collapsed": false
   },
   "outputs": [],
   "source": [
    "import pandas as pd"
   ]
  },
  {
   "cell_type": "code",
   "execution_count": 27,
   "metadata": {
    "collapsed": true
   },
   "outputs": [],
   "source": [
    "genome = pd.read_csv(\"https://docs.google.com/spreadsheets/d/13or4fsGTN3OFaVcaK8v9SA7STF54u_2_BBA7LCmeDb8/export?format=csv\")"
   ]
  },
  {
   "cell_type": "code",
   "execution_count": 28,
   "metadata": {
    "collapsed": false
   },
   "outputs": [
    {
     "data": {
      "text/plain": [
       "14252"
      ]
     },
     "execution_count": 28,
     "metadata": {},
     "output_type": "execute_result"
    }
   ],
   "source": [
    "genome.size"
   ]
  },
  {
   "cell_type": "code",
   "execution_count": 29,
   "metadata": {
    "collapsed": false
   },
   "outputs": [
    {
     "data": {
      "text/html": [
       "<div>\n",
       "<table border=\"1\" class=\"dataframe\">\n",
       "  <thead>\n",
       "    <tr style=\"text-align: right;\">\n",
       "      <th></th>\n",
       "      <th>id</th>\n",
       "      <th>created_at</th>\n",
       "      <th>updated_at</th>\n",
       "      <th>gene name</th>\n",
       "      <th>display_name</th>\n",
       "      <th>slug</th>\n",
       "      <th>Artsy page</th>\n",
       "      <th>published</th>\n",
       "      <th>suggested</th>\n",
       "      <th>browseable</th>\n",
       "      <th>automated</th>\n",
       "      <th>has_description</th>\n",
       "      <th>gene_type</th>\n",
       "      <th>gene_family</th>\n",
       "    </tr>\n",
       "  </thead>\n",
       "  <tbody>\n",
       "    <tr>\n",
       "      <th>0</th>\n",
       "      <td>4d90d190dcdd5f44a5000032</td>\n",
       "      <td>NaN</td>\n",
       "      <td>2017-06-08 23:01:13 UTC</td>\n",
       "      <td>\"Bad Painting\"</td>\n",
       "      <td>NaN</td>\n",
       "      <td>bad-painting</td>\n",
       "      <td>http://artsy.net/gene/bad-painting</td>\n",
       "      <td>True</td>\n",
       "      <td>False</td>\n",
       "      <td>False</td>\n",
       "      <td>False</td>\n",
       "      <td>True</td>\n",
       "      <td>J1 - Style or Movement</td>\n",
       "      <td>NaN</td>\n",
       "    </tr>\n",
       "  </tbody>\n",
       "</table>\n",
       "</div>"
      ],
      "text/plain": [
       "                         id created_at               updated_at  \\\n",
       "0  4d90d190dcdd5f44a5000032        NaN  2017-06-08 23:01:13 UTC   \n",
       "\n",
       "        gene name display_name          slug  \\\n",
       "0  \"Bad Painting\"          NaN  bad-painting   \n",
       "\n",
       "                           Artsy page published suggested browseable  \\\n",
       "0  http://artsy.net/gene/bad-painting      True     False      False   \n",
       "\n",
       "  automated has_description               gene_type gene_family  \n",
       "0     False            True  J1 - Style or Movement         NaN  "
      ]
     },
     "execution_count": 29,
     "metadata": {},
     "output_type": "execute_result"
    }
   ],
   "source": [
    "genome.head(1)"
   ]
  },
  {
   "cell_type": "code",
   "execution_count": 30,
   "metadata": {
    "collapsed": true
   },
   "outputs": [],
   "source": [
    "stylemovement = pd.read_csv(\"https://docs.google.com/spreadsheets/d/1TxqzmEfBIqgGpJaaY95CFUzyRZcwHZdHq-E_cYXdGOQ/export?format=csv\")"
   ]
  },
  {
   "cell_type": "code",
   "execution_count": 31,
   "metadata": {
    "collapsed": false
   },
   "outputs": [
    {
     "data": {
      "text/html": [
       "<div>\n",
       "<table border=\"1\" class=\"dataframe\">\n",
       "  <thead>\n",
       "    <tr style=\"text-align: right;\">\n",
       "      <th></th>\n",
       "      <th>WIKIPEDIA TITLE</th>\n",
       "      <th>WIKIPEDIA SLUG</th>\n",
       "      <th>WIKIDATA ID</th>\n",
       "      <th>HAS INSTANCE OF ART MOVEMENT (Q968159)</th>\n",
       "      <th>RELATED WIKI</th>\n",
       "      <th>GENE TITLE</th>\n",
       "      <th>GENE SLUG</th>\n",
       "      <th>GENE TYPE</th>\n",
       "      <th>IS PUBLISHED</th>\n",
       "      <th>IS BROWSABLE</th>\n",
       "      <th>HAS LINK TO ARTSY</th>\n",
       "      <th>RELATED GENES</th>\n",
       "    </tr>\n",
       "  </thead>\n",
       "  <tbody>\n",
       "    <tr>\n",
       "      <th>0</th>\n",
       "      <td>Bad Painting</td>\n",
       "      <td>Bad_Painting</td>\n",
       "      <td>Q2878528</td>\n",
       "      <td>True</td>\n",
       "      <td>NaN</td>\n",
       "      <td>\"Bad Painting\"</td>\n",
       "      <td>bad-painting</td>\n",
       "      <td>J1</td>\n",
       "      <td>True</td>\n",
       "      <td>False</td>\n",
       "      <td>False</td>\n",
       "      <td>NaN</td>\n",
       "    </tr>\n",
       "  </tbody>\n",
       "</table>\n",
       "</div>"
      ],
      "text/plain": [
       "  WIKIPEDIA TITLE WIKIPEDIA SLUG WIKIDATA ID  \\\n",
       "0    Bad Painting   Bad_Painting    Q2878528   \n",
       "\n",
       "  HAS INSTANCE OF ART MOVEMENT (Q968159)  RELATED WIKI      GENE TITLE  \\\n",
       "0                                   True           NaN  \"Bad Painting\"   \n",
       "\n",
       "      GENE SLUG GENE TYPE IS PUBLISHED IS BROWSABLE HAS LINK TO ARTSY  \\\n",
       "0  bad-painting        J1         True        False             False   \n",
       "\n",
       "  RELATED GENES  \n",
       "0           NaN  "
      ]
     },
     "execution_count": 31,
     "metadata": {},
     "output_type": "execute_result"
    }
   ],
   "source": [
    "stylemovement.head(1)"
   ]
  },
  {
   "cell_type": "code",
   "execution_count": 32,
   "metadata": {
    "collapsed": true
   },
   "outputs": [],
   "source": [
    "rowone = stylemovement.head(1)"
   ]
  },
  {
   "cell_type": "code",
   "execution_count": 33,
   "metadata": {
    "collapsed": false
   },
   "outputs": [
    {
     "name": "stdout",
     "output_type": "stream",
     "text": [
      "  WIKIPEDIA TITLE WIKIPEDIA SLUG WIKIDATA ID  \\\n",
      "0    Bad Painting   Bad_Painting    Q2878528   \n",
      "\n",
      "  HAS INSTANCE OF ART MOVEMENT (Q968159)  RELATED WIKI      GENE TITLE  \\\n",
      "0                                   True           NaN  \"Bad Painting\"   \n",
      "\n",
      "      GENE SLUG GENE TYPE IS PUBLISHED IS BROWSABLE HAS LINK TO ARTSY  \\\n",
      "0  bad-painting        J1         True        False             False   \n",
      "\n",
      "  RELATED GENES  \n",
      "0           NaN  \n"
     ]
    }
   ],
   "source": [
    "print(rowone)"
   ]
  },
  {
   "cell_type": "code",
   "execution_count": 34,
   "metadata": {
    "collapsed": false
   },
   "outputs": [
    {
     "name": "stdout",
     "output_type": "stream",
     "text": [
      "  WIKIPEDIA TITLE WIKIPEDIA SLUG WIKIDATA ID  \\\n",
      "0    Bad Painting   Bad_Painting    Q2878528   \n",
      "\n",
      "  HAS INSTANCE OF ART MOVEMENT (Q968159)  RELATED WIKI      GENE TITLE  \\\n",
      "0                                   True           NaN  \"Bad Painting\"   \n",
      "\n",
      "      GENE SLUG GENE TYPE IS PUBLISHED IS BROWSABLE HAS LINK TO ARTSY  \\\n",
      "0  bad-painting        J1         True        False             False   \n",
      "\n",
      "  RELATED GENES  \n",
      "0           NaN  \n"
     ]
    }
   ],
   "source": [
    "print(rowone)"
   ]
  },
  {
   "cell_type": "code",
   "execution_count": 39,
   "metadata": {
    "collapsed": false
   },
   "outputs": [
    {
     "name": "stdout",
     "output_type": "stream",
     "text": [
      "Q2878528\n"
     ]
    }
   ],
   "source": [
    "print(rowone['WIKIDATA ID'][0])"
   ]
  },
  {
   "cell_type": "code",
   "execution_count": 48,
   "metadata": {
    "collapsed": false
   },
   "outputs": [
    {
     "name": "stdout",
     "output_type": "stream",
     "text": [
      "bad-painting\n"
     ]
    }
   ],
   "source": [
    "print(rowone['GENE SLUG'][0])"
   ]
  },
  {
   "cell_type": "code",
   "execution_count": 50,
   "metadata": {
    "collapsed": false
   },
   "outputs": [],
   "source": [
    "geneslug = rowone['GENE SLUG'][0]\n",
    "wkiid = rowone['WIKIDATA ID'][0]"
   ]
  },
  {
   "cell_type": "code",
   "execution_count": 51,
   "metadata": {
    "collapsed": false
   },
   "outputs": [],
   "source": [
    "item = pywikibot.ItemPage(repo, wkiid)"
   ]
  },
  {
   "cell_type": "code",
   "execution_count": 46,
   "metadata": {
    "collapsed": false
   },
   "outputs": [
    {
     "name": "stdout",
     "output_type": "stream",
     "text": [
      "{'sitelinks': {'enwiki': 'Bad Painting', 'ruwiki': 'Плохая живопись', 'fiwiki': 'Huonomaalaus', 'eswiki': 'Bad painting', 'frwiki': 'Bad Painting'}, 'aliases': {'fr': ['Bad painting'], 'es': ['Bad Painting'], 'fi': ['Bad Painting']}, 'descriptions': {}, 'labels': {'fr': 'Bad Painting', 'nl': 'Bad Painting', 'en': 'Bad Painting', 'ru': 'Плохая живопись', 'es': 'Bad painting', 'fi': 'Huonomaalaus', 'zh': '壞繪畫藝術'}, 'claims': {'P1014': [<pywikibot.page.Claim object at 0x7f1d710e3160>], 'P646': [<pywikibot.page.Claim object at 0x7f1d70fe5588>], 'P31': [<pywikibot.page.Claim object at 0x7f1d70fe5860>]}}\n"
     ]
    }
   ],
   "source": [
    "print(item.get())"
   ]
  },
  {
   "cell_type": "code",
   "execution_count": 53,
   "metadata": {
    "collapsed": false
   },
   "outputs": [],
   "source": [
    "newclaim = pywikibot.Claim(repo, u'P2411')\n",
    "newclaim.setTarget(geneslug)\n",
    "item.addClaim(newclaim, summary=\"addes an artsy gene link\")"
   ]
  },
  {
   "cell_type": "code",
   "execution_count": null,
   "metadata": {
    "collapsed": true
   },
   "outputs": [],
   "source": []
  },
  {
   "cell_type": "code",
   "execution_count": null,
   "metadata": {
    "collapsed": true
   },
   "outputs": [],
   "source": []
  }
 ],
 "metadata": {
  "kernelspec": {
   "display_name": "Python 3",
   "language": "python",
   "name": "python3"
  },
  "language_info": {
   "codemirror_mode": {
    "name": "ipython",
    "version": 3
   },
   "file_extension": ".py",
   "mimetype": "text/x-python",
   "name": "python",
   "nbconvert_exporter": "python",
   "pygments_lexer": "ipython3",
   "version": "3.4.2"
  }
 },
 "nbformat": 4,
 "nbformat_minor": 2
}
